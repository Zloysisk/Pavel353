{
  "nbformat": 4,
  "nbformat_minor": 0,
  "metadata": {
    "colab": {
      "name": "2022-07 WORKSHOP Skillbox Chat Bot",
      "provenance": [],
      "collapsed_sections": [
        "LTA2IxBGQfp7",
        "hSSID1qhTRst",
        "yghoYMy4C5b0",
        "hQmd5e9_J12n",
        "MMr2mDwFTVeK"
      ],
      "include_colab_link": true
    },
    "kernelspec": {
      "name": "python3",
      "display_name": "Python 3"
    },
    "language_info": {
      "name": "python"
    }
  },
  "cells": [
    {
      "cell_type": "markdown",
      "metadata": {
        "id": "view-in-github",
        "colab_type": "text"
      },
      "source": [
        "<a href=\"https://colab.research.google.com/github/Zloysisk/Pavel353/blob/main/2022_07_WORKSHOP_Skillbox_Chat_Bot.ipynb\" target=\"_parent\"><img src=\"https://colab.research.google.com/assets/colab-badge.svg\" alt=\"Open In Colab\"/></a>"
      ]
    },
    {
      "cell_type": "markdown",
      "source": [
        "# Чем мы будем заниматься на интенсиве?"
      ],
      "metadata": {
        "id": "6dLgQDxbHpSU"
      }
    },
    {
      "cell_type": "markdown",
      "source": [
        "**День 1:** Знакомимся с Python и архитектурой умного чат-бота\n",
        "https://live.skillbox.ru/webinars/code/znakomimsya-s-python-i-arkhitekturoi-umnogo-chat-bota180722/\n",
        "*   Что такое NLU и как компьютер понимает естественную речь.\n",
        "*   Архитектура «умных» чат-ботов.\n",
        "*   Начало работы с Python.\n",
        "*   Типы и структуры данных Python. Циклы и функции.\n",
        "\n",
        "**День 2:** Учим бота на Python понимать текст\n",
        "*   Подготовка дата-сета.\n",
        "*   Алгоритмы сравнения текстов.\n",
        "*   Векторизация.\n",
        "*   Обучение машинной модели.\n",
        "*   Измерение качества классификатора и интеграция в чат-бота.\n",
        "\n",
        "**День 3:** Искусственный интеллект на Python: подводим итоги\n",
        "*   Создание Telegram-бота через @BotFather.\n",
        "*   Запуск и подключение Python-приложения.\n",
        "\n",
        "\n",
        "\n",
        "<img src='https://drive.google.com/uc?export=view&id=1jh8IXsRZMwODB7Yk_ZH7pR1laJaQlaly' height=300>"
      ],
      "metadata": {
        "id": "JzOJzJn7IUbh"
      }
    },
    {
      "cell_type": "markdown",
      "source": [
        "# День 1"
      ],
      "metadata": {
        "id": "ppsIrKbyJDTJ"
      }
    },
    {
      "cell_type": "markdown",
      "source": [
        "## ВЕРСИЯ 1: Простейший Чат-бот\n",
        "`{Вопрос на входе}` => `{Алгоритм ответа}` => `{Ответ на выходе}`\n",
        "\n",
        "---\n",
        "Простейший алгоритм — это поиск по базе известных вопросов и ответов.\n"
      ],
      "metadata": {
        "id": "mW1tlQcAJRmA"
      }
    },
    {
      "cell_type": "code",
      "source": [
        "import random"
      ],
      "metadata": {
        "id": "jHwSOC-8InIo"
      },
      "execution_count": null,
      "outputs": []
    },
    {
      "cell_type": "code",
      "execution_count": null,
      "metadata": {
        "id": "ePQvZ6EHH75B"
      },
      "outputs": [],
      "source": [
        "# Словарь\n",
        "\n",
        "intents = {\n",
        "    'hello': {\n",
        "        'examples': ['Хелло', \"Привет\", \"Здравствуйте\"],\n",
        "        'responses': ['Добрый день!', \"Как дела?\", \"Как настроение?\"]\n",
        "    },\n",
        "    'weather': {\n",
        "        'examples': ['Какая погода?', 'Что за окном', \"Во что одеваться?\"],\n",
        "        'responses': ['Погода отличная!', \"У природы нет плохой погоды!\"],\n",
        "    }\n",
        "}\n",
        "\n",
        "# input = ввод данных от пользователя\n",
        "# random.choice = выбор случайного элемента из списка\n",
        "# print = вывод на экран"
      ]
    },
    {
      "cell_type": "code",
      "source": [
        "intents['hello']['examples']"
      ],
      "metadata": {
        "colab": {
          "base_uri": "https://localhost:8080/"
        },
        "id": "-JsGgQsFkTgq",
        "outputId": "38b8c5db-cea7-479f-8269-ced1ff36e091"
      },
      "execution_count": null,
      "outputs": [
        {
          "output_type": "execute_result",
          "data": {
            "text/plain": [
              "['Хелло', 'Привет', 'Здравствуйте']"
            ]
          },
          "metadata": {},
          "execution_count": 3
        }
      ]
    },
    {
      "cell_type": "code",
      "source": [
        "text = input()  # Нужно нажать Enter после ввода текста"
      ],
      "metadata": {
        "colab": {
          "base_uri": "https://localhost:8080/"
        },
        "id": "D3ClzaPPkvSz",
        "outputId": "10c1b9af-0ff4-4e89-a621-583d4637af3c"
      },
      "execution_count": null,
      "outputs": [
        {
          "name": "stdout",
          "output_type": "stream",
          "text": [
            "Привет\n"
          ]
        }
      ]
    },
    {
      "cell_type": "code",
      "source": [
        "print(text)"
      ],
      "metadata": {
        "colab": {
          "base_uri": "https://localhost:8080/"
        },
        "id": "rQvk9sZGlYk6",
        "outputId": "e446b6db-aed8-483b-d2c2-e635d82ede79"
      },
      "execution_count": null,
      "outputs": [
        {
          "output_type": "stream",
          "name": "stdout",
          "text": [
            "Привет\n"
          ]
        }
      ]
    },
    {
      "cell_type": "code",
      "source": [
        "text = input()\n",
        "\n",
        "if text == 'Какая погода?':\n",
        "    print('weather')"
      ],
      "metadata": {
        "colab": {
          "base_uri": "https://localhost:8080/"
        },
        "id": "f9FUGwEwldjI",
        "outputId": "33fe4d44-394a-44e2-aa7c-c1d81deb94d1"
      },
      "execution_count": null,
      "outputs": [
        {
          "output_type": "stream",
          "name": "stdout",
          "text": [
            "Какая погода?\n",
            "weather\n"
          ]
        }
      ]
    },
    {
      "cell_type": "code",
      "source": [
        "text = input()\n",
        "\n",
        "for intent_name in intents:\n",
        "    for example in intents[intent_name]['examples']:\n",
        "        if text == example:\n",
        "            answer = random.choice(intents[intent_name]['responses'])\n",
        "            print(answer)"
      ],
      "metadata": {
        "colab": {
          "base_uri": "https://localhost:8080/"
        },
        "id": "QKPOOZkvlrQG",
        "outputId": "7bbe2f95-402d-4b9a-9c01-099c05b8b257"
      },
      "execution_count": null,
      "outputs": [
        {
          "output_type": "stream",
          "name": "stdout",
          "text": [
            "Привет\n",
            "Как дела?\n"
          ]
        }
      ]
    },
    {
      "cell_type": "code",
      "source": [
        ""
      ],
      "metadata": {
        "id": "dt3_e6Uza3Fu"
      },
      "execution_count": null,
      "outputs": []
    },
    {
      "cell_type": "code",
      "source": [
        "text = input()\n",
        "\n",
        "for intent_name in intents:\n",
        "    for example in intents[intent_name]['examples']:\n",
        "        if text == example:\n",
        "            answer = random.choice(intents[intent_name]['responses'])\n",
        "            print(answer)"
      ],
      "metadata": {
        "colab": {
          "base_uri": "https://localhost:8080/"
        },
        "id": "zDLDniHtmsrJ",
        "outputId": "0b328d31-2f82-492d-e50e-cce1a3633b36"
      },
      "execution_count": null,
      "outputs": [
        {
          "name": "stdout",
          "output_type": "stream",
          "text": [
            "привет!\n"
          ]
        }
      ]
    },
    {
      "cell_type": "markdown",
      "source": [
        "# Алгоритм ответа\n",
        "1.   Если вопрос это что-то вроде \"*Привет*\" или \"*Хеллоу*\"\n",
        "2.   То ответить случайной фразой вроде \"**Йоу**\", \"**Приветики**\" или \"**Здрасте**\""
      ],
      "metadata": {
        "id": "tysEo2EaLV9V"
      }
    },
    {
      "cell_type": "markdown",
      "source": [
        "Сложность — в том чтобы сравнить **Текст Пользователя** и текст в программе."
      ],
      "metadata": {
        "id": "26m8fK1GN4m3"
      }
    },
    {
      "cell_type": "code",
      "source": [
        "import re\n",
        "import nltk"
      ],
      "metadata": {
        "id": "BBbDDXGUupSN"
      },
      "execution_count": null,
      "outputs": []
    },
    {
      "cell_type": "code",
      "source": [
        "def clean_up(text):\n",
        "    # преобразуем слово к нижнему регистру\n",
        "    text = text.lower()\n",
        "    # описываем текстовый шаблон для удаления: \"все, что НЕ (^) является буквой \\w или пробелом \\s\"\n",
        "    re_not_word = r'[^\\w\\s]'\n",
        "    # заменяем в исходном тексте то, что соответствует шаблону, на пустой текст (удаляем)\n",
        "    text = re.sub(re_not_word, '', text)\n",
        "    # возвращаем очищенный текст\n",
        "    \n",
        "    return text\n",
        "\n",
        "def text_match(user_text, example):\n",
        "    # допишем функцию так, чтобы все примеры ниже работали\n",
        "    user_text = clean_up(user_text)\n",
        "    example = clean_up(example)\n",
        "    # A.find(B) - возвращает номер буквы, с которой идет текст B внутри текста А\n",
        "    # find возвращает -1 в случае, если ничего не нашла\n",
        "\n",
        "    if user_text.find(example) != -1:\n",
        "        return True\n",
        "\n",
        "    if example.find(user_text) != -1:\n",
        "        return True\n",
        "\n",
        "    example_len = len(example)\n",
        "    difference = nltk.edit_distance(user_text, example)\n",
        "\n",
        "    return (difference / example_len) < 0.4"
      ],
      "metadata": {
        "id": "v68CYBmmMwwu"
      },
      "execution_count": null,
      "outputs": []
    },
    {
      "cell_type": "code",
      "source": [
        "# Тексты совпадают\n",
        "text_match(\"Привет\", \"Привет\")  "
      ],
      "metadata": {
        "id": "Y_v5venhNDey",
        "colab": {
          "base_uri": "https://localhost:8080/"
        },
        "outputId": "df5926a1-f8e9-4fad-90b6-97640241b453"
      },
      "execution_count": null,
      "outputs": [
        {
          "output_type": "execute_result",
          "data": {
            "text/plain": [
              "True"
            ]
          },
          "metadata": {},
          "execution_count": 44
        }
      ]
    },
    {
      "cell_type": "code",
      "source": [
        "# Разный регистр (ToDo: lower)\n",
        "text_match(\"привет\", \"Привет\")"
      ],
      "metadata": {
        "id": "mCkXZGN7NCxm",
        "colab": {
          "base_uri": "https://localhost:8080/"
        },
        "outputId": "ae29f33e-4635-4cda-cd26-ea3fe9253aac"
      },
      "execution_count": null,
      "outputs": [
        {
          "output_type": "execute_result",
          "data": {
            "text/plain": [
              "True"
            ]
          },
          "metadata": {},
          "execution_count": 45
        }
      ]
    },
    {
      "cell_type": "code",
      "source": [
        "# Лишние символы (ToDo: regular expressions)\n",
        "text_match(\"Привет!!!\", \"Привет\")  "
      ],
      "metadata": {
        "id": "XyYl1qxJOWfE",
        "colab": {
          "base_uri": "https://localhost:8080/"
        },
        "outputId": "e56798d2-9561-48e0-d748-4d328a37ef2d"
      },
      "execution_count": null,
      "outputs": [
        {
          "output_type": "execute_result",
          "data": {
            "text/plain": [
              "True"
            ]
          },
          "metadata": {},
          "execution_count": 46
        }
      ]
    },
    {
      "cell_type": "code",
      "source": [
        "# Лишние слова (ToDo: find)\n",
        "text_match(\"Привет, как дела\", \"Привет\")  "
      ],
      "metadata": {
        "id": "ElasFTAKOW8g",
        "colab": {
          "base_uri": "https://localhost:8080/"
        },
        "outputId": "77577f16-0995-4674-bfba-7454fc8c89b0"
      },
      "execution_count": null,
      "outputs": [
        {
          "output_type": "execute_result",
          "data": {
            "text/plain": [
              "True"
            ]
          },
          "metadata": {},
          "execution_count": 47
        }
      ]
    },
    {
      "cell_type": "code",
      "source": [
        "# Опечатки (ToDo: levenstein)\n",
        "text_match(\"Превет\", \"Привет\")"
      ],
      "metadata": {
        "id": "d9gU6QhvOY17",
        "colab": {
          "base_uri": "https://localhost:8080/"
        },
        "outputId": "a347b141-b355-4592-e45d-0017920aeaec"
      },
      "execution_count": null,
      "outputs": [
        {
          "output_type": "execute_result",
          "data": {
            "text/plain": [
              "True"
            ]
          },
          "metadata": {},
          "execution_count": 48
        }
      ]
    },
    {
      "cell_type": "code",
      "source": [
        "nltk.edit_distance(\"Превет\", \"Привет\")"
      ],
      "metadata": {
        "colab": {
          "base_uri": "https://localhost:8080/"
        },
        "id": "0wRMV5pFxBby",
        "outputId": "84656e16-5819-4763-c33c-ee26f11436bd"
      },
      "execution_count": null,
      "outputs": [
        {
          "output_type": "execute_result",
          "data": {
            "text/plain": [
              "1"
            ]
          },
          "metadata": {},
          "execution_count": 40
        }
      ]
    },
    {
      "cell_type": "code",
      "source": [
        "user_text = \"Превет\"\n",
        "example = \"Привет\"\n",
        "example_len = len(example)\n",
        "\n",
        "print(example_len)"
      ],
      "metadata": {
        "colab": {
          "base_uri": "https://localhost:8080/"
        },
        "id": "-50ItCwDxHR0",
        "outputId": "e570b949-02a0-4d23-8e64-2f4ba88bbc24"
      },
      "execution_count": null,
      "outputs": [
        {
          "output_type": "stream",
          "name": "stdout",
          "text": [
            "6\n"
          ]
        }
      ]
    },
    {
      "cell_type": "code",
      "source": [
        "user_text = \"Превет\"\n",
        "example = \"Привет\"\n",
        "example_len = len(example)\n",
        "\n",
        "difference = nltk.edit_distance(user_text, example)\n",
        "\n",
        "print(difference / example_len)"
      ],
      "metadata": {
        "colab": {
          "base_uri": "https://localhost:8080/"
        },
        "id": "PUr-z95YxWVs",
        "outputId": "c69f2ca8-46b1-488e-dfe4-96a4032c313e"
      },
      "execution_count": null,
      "outputs": [
        {
          "output_type": "stream",
          "name": "stdout",
          "text": [
            "0.16666666666666666\n"
          ]
        }
      ]
    },
    {
      "cell_type": "markdown",
      "source": [
        "# ВЕРСИЯ 2: Определение намерения (intent) пользователя\n"
      ],
      "metadata": {
        "id": "LTA2IxBGQfp7"
      }
    },
    {
      "cell_type": "code",
      "source": [
        "INTENTS = {\n",
        "    \"hello\": {\n",
        "        \"examples\": [\"Привет\", \"Хеллоу\", \"Хай\"],\n",
        "        \"responses\": [\"Здрасте\", \"Йоу\"],\n",
        "    },\n",
        "    \"how-are-you\": {\n",
        "        \"examples\": [\"Как дела\", \"Чем занят\", \"Что нового\"],\n",
        "        \"responses\": [\"Вроде ничего\", \"Хорошо, а как сам?\"],\n",
        "    },\n",
        "    \"exit\": {\n",
        "        \"examples\": [\"Пока\", \"Выход\"],\n",
        "        \"responses\": [\"Пока-пока!\", \"До скорой встречи :)\"],\n",
        "    },\n",
        "}"
      ],
      "metadata": {
        "id": "jf5VCtOxPfDI"
      },
      "execution_count": null,
      "outputs": []
    },
    {
      "cell_type": "code",
      "source": [
        "# Определить намерение по тексту\n",
        "# \"Чем занят\" => \"how-are-you\"\n",
        "def get_intent(text):\n",
        "  # Проверить все существующие intent'ы\n",
        "    # Какой-нибудь один будет иметь example похожий на text\n",
        "    # Проверить все examples\n",
        "\n",
        "    for intent in INTENTS:\n",
        "        for example in INTENTS[intent]['examples']:\n",
        "            if text_match(text, example):\n",
        "                return intent\n",
        "    \n",
        "\n",
        "# \"hello\" => \"Йоу\"\n",
        "# Берет случайны response для данного intent'а\n",
        "def get_response(intent):\n",
        "    return random.choice(INTENTS[intent]['responses'])"
      ],
      "metadata": {
        "id": "185AmFXsRCiY"
      },
      "execution_count": null,
      "outputs": []
    },
    {
      "cell_type": "code",
      "source": [
        "get_intent('какк дела?')"
      ],
      "metadata": {
        "colab": {
          "base_uri": "https://localhost:8080/",
          "height": 35
        },
        "id": "kmvKmW7hyyGT",
        "outputId": "549456ff-4de5-4cbe-afb2-422ce0bebf3e"
      },
      "execution_count": null,
      "outputs": [
        {
          "output_type": "execute_result",
          "data": {
            "text/plain": [
              "'how-are-you'"
            ],
            "application/vnd.google.colaboratory.intrinsic+json": {
              "type": "string"
            }
          },
          "metadata": {},
          "execution_count": 54
        }
      ]
    },
    {
      "cell_type": "code",
      "source": [
        "get_response('how-are-you')"
      ],
      "metadata": {
        "colab": {
          "base_uri": "https://localhost:8080/",
          "height": 35
        },
        "id": "LN3o4LdUzCg5",
        "outputId": "95ce9f17-7df3-4ba9-9f89-4150f4cfe894"
      },
      "execution_count": null,
      "outputs": [
        {
          "output_type": "execute_result",
          "data": {
            "text/plain": [
              "'Хорошо, а как сам?'"
            ],
            "application/vnd.google.colaboratory.intrinsic+json": {
              "type": "string"
            }
          },
          "metadata": {},
          "execution_count": 55
        }
      ]
    },
    {
      "cell_type": "code",
      "source": [
        "text = input('< ')\n",
        "intent = get_intent(text)\n",
        "answer = get_response(intent)\n",
        "print('>', answer)"
      ],
      "metadata": {
        "colab": {
          "base_uri": "https://localhost:8080/"
        },
        "id": "9MCk3O67zIW5",
        "outputId": "7edf6788-83a2-4aae-c694-0b5af3ed8251"
      },
      "execution_count": null,
      "outputs": [
        {
          "output_type": "stream",
          "name": "stdout",
          "text": [
            "< привет\n",
            "> Здрасте\n"
          ]
        }
      ]
    },
    {
      "cell_type": "code",
      "source": [
        "text = 'привет'\n",
        "\n",
        "while not text_match(text, 'Выход'):\n",
        "    text = input('< ')\n",
        "    intent = get_intent(text)\n",
        "    answer = get_response(intent)\n",
        "    print('>', answer)"
      ],
      "metadata": {
        "colab": {
          "base_uri": "https://localhost:8080/"
        },
        "id": "XwujJSH5zId7",
        "outputId": "58c77ba6-1e5e-4382-d4f1-fe2adfd5f7d1"
      },
      "execution_count": null,
      "outputs": [
        {
          "output_type": "stream",
          "name": "stdout",
          "text": [
            "< Привет!\n",
            "> Здрасте\n",
            "< выход\n",
            "> До скорой встречи :)\n"
          ]
        }
      ]
    },
    {
      "cell_type": "markdown",
      "source": [
        "# День 2\n"
      ],
      "metadata": {
        "id": "hSSID1qhTRst"
      }
    },
    {
      "cell_type": "markdown",
      "source": [
        "## ВЕРСИЯ 3: Классификация текстов ML-моделью\n"
      ],
      "metadata": {
        "id": "pqqsdYVxRC4w"
      }
    },
    {
      "cell_type": "markdown",
      "source": [
        "### Шаг 1: собираем данные, на которых будет учиться модель"
      ],
      "metadata": {
        "id": "-mAZMC9gCvG5"
      }
    },
    {
      "cell_type": "markdown",
      "source": [
        "Задача: Научить Модель опеределять интент по тексту пользователя\n",
        "\n",
        "**Классификация текстов**\n",
        "\n",
        "\n",
        "Фраза на вход => Модель предсказывает интент фразы\n",
        "\n",
        "Входные данные (Фразы, X)\n",
        "Выходные данные (Интенты, y)\n",
        "\n",
        "Модель обучится на наших примерах и сможет предсказывать интенты по фразе."
      ],
      "metadata": {
        "id": "VLQd37nO3jhd"
      }
    },
    {
      "cell_type": "code",
      "source": [
        "# Скачаем файл с большим количеством примеров для обучения\n",
        "import os\n",
        "import urllib.request\n",
        "\n",
        "url = \"https://drive.google.com/uc?export=view&id=1u4sNekGHaDzgkOVzCOAbyWpFTEMfu95Z\"\n",
        "filename = \"intents_dataset.json\"\n",
        "urllib.request.urlretrieve(url, filename)"
      ],
      "metadata": {
        "id": "IekZ2-zqRHKH"
      },
      "execution_count": null,
      "outputs": []
    },
    {
      "cell_type": "code",
      "source": [
        "# Считываем файл в словарь\n",
        "import json\n"
      ],
      "metadata": {
        "id": "7GJtHvYexRBu"
      },
      "execution_count": null,
      "outputs": []
    },
    {
      "cell_type": "markdown",
      "source": [
        "Составляем 2 массива:\n",
        "* **X** - входные фразы (то, что модель будет получать от пользователя)\n",
        "* **y** - интенты (то, что модель будет учиться прогнозировать)"
      ],
      "metadata": {
        "id": "x7LOaA445sNF"
      }
    },
    {
      "cell_type": "markdown",
      "source": [
        "<img src='https://drive.google.com/uc?export=view&id=1u3wiw_dSsYbEyGPfu3pj_mMHMnVVINS6' height=450 border='1' alt=''>"
      ],
      "metadata": {
        "id": "ydbBfFW-7Fn1"
      }
    },
    {
      "cell_type": "code",
      "source": [
        "# пробегаем по всему словарю - берем пары ключ-значение и раскладываем по двум спискам\n",
        "# сначала берем пары name, intent из словаря\n",
        "# потом для каждого элемента в examples и responses добавляем в X элемент, \n",
        "# а в y параллельно кладем name - название корневого интента\n",
        "X = []\n",
        "y = []\n"
      ],
      "metadata": {
        "id": "Gaf5we3TxzDh"
      },
      "execution_count": null,
      "outputs": []
    },
    {
      "cell_type": "markdown",
      "source": [
        "### Шаг 2: преобразуем слова в числа"
      ],
      "metadata": {
        "id": "yghoYMy4C5b0"
      }
    },
    {
      "cell_type": "markdown",
      "source": [
        "**Векторизация** - процесс кодирования слова в набор чисел\n",
        "\n",
        "[sklearn.CountVectorizer](https://scikit-learn.org/stable/modules/generated/sklearn.feature_extraction.text.CountVectorizer.html)\n",
        "\n",
        "1. На вход подается большой набор фраз\n",
        "2. Векторайзер обучается (каждому слову выделяется отдельная ячейка, куда будет вставляться код - число, сколько раз слово встретилось во фразе)\n",
        "3. Векторайзер готов работать с новыми текстами\n",
        "\n",
        "**Пример**\n",
        "```\n",
        "1. Набор текстов = {\n",
        "  \"мама мыла раму\", \n",
        "  \"Саша мыла раму\",\n",
        "}\n",
        "```\n",
        "\n",
        "```\n",
        "2. Обучение\n",
        "мама -> 1, мыла -> 2, раму -> 3, Саша -> 4\n",
        "  \"мама мыла раму\" = [1, 1, 1, 0]\n",
        "  \"Саша мыла раму\" = [0, 1, 1, 1]\n",
        "```\n",
        "```\n",
        "3. Векторизация\n",
        "\"мама мама мама\" = [3, 0, 0, 0]\n",
        "\"как мама мыла раму\" = [1, 1, 1, 0]\n",
        "\"шла Саша по шоссе\" = [0, 0, 0, 1]\n",
        "```"
      ],
      "metadata": {
        "id": "RrraXH4QC7zX"
      }
    },
    {
      "cell_type": "code",
      "source": [
        "from sklearn.feature_extraction.text import CountVectorizer\n",
        "\n",
        "vectorizer = CountVectorizer()\n",
        "vectorizer.fit([\"мама мыла раму\", \"Саша мыла раму\",]) # Обучаем векторайзер\n",
        "\n",
        "print(vectorizer.get_feature_names_out())\n",
        "print(\"мама мама мама ->\", vectorizer.transform([\"мама мама мама\"]).toarray())\n",
        "print(\"шла Саша по шоссе ->\", vectorizer.transform([\"шла Саша по шоссе\"]).toarray())"
      ],
      "metadata": {
        "id": "PlmCHQSEEPAm"
      },
      "execution_count": null,
      "outputs": []
    },
    {
      "cell_type": "markdown",
      "source": [
        "Векторизуем наши фразы X"
      ],
      "metadata": {
        "id": "zkjSjoRHGv7G"
      }
    },
    {
      "cell_type": "code",
      "source": [
        ""
      ],
      "metadata": {
        "id": "xg7odfBDGymT"
      },
      "execution_count": null,
      "outputs": []
    },
    {
      "cell_type": "markdown",
      "source": [
        "### Шаг 3: обучаем классификатор текстов"
      ],
      "metadata": {
        "id": "hQmd5e9_J12n"
      }
    },
    {
      "cell_type": "code",
      "source": [
        "from sklearn.neural_network import MLPClassifier # Импортируем\n",
        "# Создаем модель\n",
        "# Обучаем модель"
      ],
      "metadata": {
        "id": "Ve5tV5Pdd7Qn"
      },
      "execution_count": null,
      "outputs": []
    },
    {
      "cell_type": "markdown",
      "source": [
        "### Шаг 4: оцениваем качество"
      ],
      "metadata": {
        "id": "B2Y4Ov61J5rg"
      }
    },
    {
      "cell_type": "markdown",
      "source": [
        "**Accuracy** $= \\frac{n\\ угаданных}{N\\ всего}$ — доля правильных ответов (больше - лучше)\n",
        "\n",
        "_Вопрос на внимательность: какое максимальное и минимальное значение метрики может быть, исходя из формулы выше?_"
      ],
      "metadata": {
        "id": "rO1zwbF3ePcg"
      }
    },
    {
      "cell_type": "code",
      "source": [
        "mlp_model.score(X_vec, y)  # Качество на тренировочной выборке = accuracy / больше = лучше"
      ],
      "metadata": {
        "id": "9UurWB9MJy0T"
      },
      "execution_count": null,
      "outputs": []
    },
    {
      "cell_type": "markdown",
      "source": [
        "### Шаг 5: пишем функцию для получения интента с помощью ML"
      ],
      "metadata": {
        "id": "V2qQ8d8FrxQt"
      }
    },
    {
      "cell_type": "code",
      "source": [
        "MODEL = mlp_model\n",
        "\n",
        "def get_intent(text):\n",
        "    pass"
      ],
      "metadata": {
        "id": "9RLxxqpSr6Kv"
      },
      "execution_count": null,
      "outputs": []
    },
    {
      "cell_type": "code",
      "source": [
        "get_intent(\"привет, как дела?\")"
      ],
      "metadata": {
        "id": "xHt2Npg-sXhV"
      },
      "execution_count": null,
      "outputs": []
    },
    {
      "cell_type": "code",
      "source": [
        "get_intent(\"давай анекдот\")"
      ],
      "metadata": {
        "id": "8_kIzeDUsnuk"
      },
      "execution_count": null,
      "outputs": []
    },
    {
      "cell_type": "code",
      "source": [
        "def get_response(intent):\n",
        "    pass"
      ],
      "metadata": {
        "id": "oGSp4Ssx_mMe"
      },
      "execution_count": null,
      "outputs": []
    },
    {
      "cell_type": "code",
      "source": [
        "def bot(text):\n",
        "    pass"
      ],
      "metadata": {
        "id": "mHZ89U82_WNz"
      },
      "execution_count": null,
      "outputs": []
    },
    {
      "cell_type": "code",
      "source": [
        "text = \"\"\n",
        "while text != \"Выход\":\n",
        "    text=input()\n",
        "    print(bot(text))"
      ],
      "metadata": {
        "id": "7-cOH_q8_0z3"
      },
      "execution_count": null,
      "outputs": []
    },
    {
      "cell_type": "markdown",
      "source": [
        "# День 3"
      ],
      "metadata": {
        "id": "MMr2mDwFTVeK"
      }
    },
    {
      "cell_type": "markdown",
      "source": [
        "Бот в Телеграм\n",
        "\n",
        "Библиотека [python-telegram-bot](https://python-telegram-bot.org/)\n",
        "\n",
        "Токен получаем у телеграм-бота @BotFather"
      ],
      "metadata": {
        "id": "cDuASTUtss8Y"
      }
    },
    {
      "cell_type": "code",
      "source": [
        "!pip install python-telegram-bot --pre"
      ],
      "metadata": {
        "id": "4eCC32rImnd9"
      },
      "execution_count": null,
      "outputs": []
    },
    {
      "cell_type": "code",
      "source": [
        "import nest_asyncio\n",
        "nest_asyncio.apply()"
      ],
      "metadata": {
        "id": "CbSKz1-yvtSc"
      },
      "execution_count": null,
      "outputs": []
    },
    {
      "cell_type": "code",
      "source": [
        "try:\n",
        "    with open('secret_file.txt', 'r') as f:\n",
        "        TOKEN = f.read()\n",
        "except:\n",
        "    print('Это файл с токеном спикера. Вам нужно вставить свой токен в ячейку ниже')"
      ],
      "metadata": {
        "id": "uXwcP3QBtONx"
      },
      "execution_count": null,
      "outputs": []
    },
    {
      "cell_type": "code",
      "source": [
        "TOKEN = '<вставьте сюда свой токен>'"
      ],
      "metadata": {
        "id": "dLEd-e0OtnL9"
      },
      "execution_count": null,
      "outputs": []
    },
    {
      "cell_type": "code",
      "source": [
        "#  Update - информация полученная с сервера (новые сообщения, новые контакты)\n",
        "#  С сервера регулярно регулярно приходят Update'ы с новой информацией\n",
        "from telegram import Update \n",
        "from telegram.ext import ApplicationBuilder #  Инструмент чтобы создавать и настраивать приложение (телеграм бот)\n",
        "from telegram.ext import MessageHandler #  Handler (обработчик) - создать реакцию (функцию) на действие\n",
        "\n",
        "from  telegram.ext import filters"
      ],
      "metadata": {
        "id": "Z7EK9UGixz4f"
      },
      "execution_count": null,
      "outputs": []
    },
    {
      "cell_type": "code",
      "source": [
        "# Функция для MessageHandler'а, вызывать ее при каждом сообщении боту\n",
        "async def reply(update: Update, context) -> None:\n",
        "  # ToDo: убрать заглушку, подключить бота\n",
        "\n",
        "  pass #  Ответ пользователю\n",
        "\n",
        "# Создаем объект приложения - связываем его с токеном\n",
        "app = ...\n",
        "\n",
        "# Создаем обработчик текстовых сообщений\n",
        "handler = ...\n",
        "\n",
        "# Добавляем обработчик в приложение\n",
        "\n",
        "\n",
        "# Запускаем приложение: бот крутится, пока крутится колесико выполнения слева ячейки)\n"
      ],
      "metadata": {
        "id": "sKaH2jQnx59S"
      },
      "execution_count": null,
      "outputs": []
    },
    {
      "cell_type": "code",
      "source": [
        ""
      ],
      "metadata": {
        "id": "G7bbQ4D4twvX"
      },
      "execution_count": null,
      "outputs": []
    }
  ]
}